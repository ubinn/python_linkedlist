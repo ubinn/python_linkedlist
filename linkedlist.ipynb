{
  "nbformat": 4,
  "nbformat_minor": 0,
  "metadata": {
    "colab": {
      "name": "linkedlist.ipynb",
      "version": "0.3.2",
      "provenance": [],
      "collapsed_sections": [],
      "include_colab_link": true
    },
    "kernelspec": {
      "name": "python3",
      "display_name": "Python 3"
    }
  },
  "cells": [
    {
      "cell_type": "markdown",
      "metadata": {
        "id": "view-in-github",
        "colab_type": "text"
      },
      "source": [
        "[View in Colaboratory](https://colab.research.google.com/github/ubinn/python_linkedlist/blob/master/linkedlist.ipynb)"
      ]
    },
    {
      "metadata": {
        "id": "xVmoBCYLk-82",
        "colab_type": "code",
        "colab": {}
      },
      "cell_type": "code",
      "source": [
        "class Node:\n",
        "\n",
        "    def __init__(self, item):\n",
        "        self.data = item\n",
        "        self.next = None\n",
        "\n",
        "\n",
        "class LinkedList:\n",
        "\n",
        "    def __init__(self):\n",
        "        self.nodeCount = 0\n",
        "        self.head = None\n",
        "        self.tail = None\n",
        "    \n",
        "    def __repr__(self):\n",
        "        if self.nodeCount == 0:\n",
        "            return \"LinkedList : empty\"\n",
        "        \n",
        "        s = ''\n",
        "        curr = self.head\n",
        "        while curr is not None:\n",
        "            s += repr(curr.data)\n",
        "            if curr.next is not None:\n",
        "                s += '->'\n",
        "            curr = curr.next\n",
        "\n",
        "        return s\n",
        "\n",
        "\n",
        "    def getAt(self, pos):\n",
        "        if pos < 1 or pos > self.nodeCount:\n",
        "            return None\n",
        "\n",
        "        i = 1\n",
        "        curr = self.head\n",
        "        while i < pos:\n",
        "            curr = curr.next\n",
        "            i += 1\n",
        "\n",
        "        return curr\n",
        "\n",
        "\n",
        "    def insertAt(self, pos, newNode):\n",
        "        if pos < 1 or pos > self.nodeCount + 1:\n",
        "            return False\n",
        "\n",
        "        if pos == 1:\n",
        "            newNode.next = self.head\n",
        "            self.head = newNode\n",
        "\n",
        "        else:\n",
        "            if pos == self.nodeCount + 1:\n",
        "                prev = self.tail\n",
        "            else:\n",
        "                prev = self.getAt(pos - 1)\n",
        "            newNode.next = prev.next\n",
        "            prev.next = newNode\n",
        "\n",
        "        if pos == self.nodeCount + 1:\n",
        "            self.tail = newNode\n",
        "\n",
        "        self.nodeCount += 1\n",
        "        return True\n",
        "\n",
        "\n",
        "    def popAt(self, pos):\n",
        "        if pos < 1 or pos > self.nodeCount:\n",
        "            raise IndexError\n",
        "            \n",
        "        curr = self.getAt(pos)\n",
        "        \n",
        "        if pos == 1:\n",
        "            self.head = curr.next\n",
        "            if self.nodeCount == 1:\n",
        "                self = LinkedList()\n",
        "        else:\n",
        "            prev = self.getAt(pos - 1)\n",
        "            if pos == self.nodeCount:\n",
        "                self.tail == prev\n",
        "                prev.next = None\n",
        "            else:\n",
        "                prev.next = curr.next\n",
        "                \n",
        "        self.nodeCount -= 1\n",
        "        \n",
        "        return True\n",
        "\n",
        "    def traverse(self):\n",
        "        result = []\n",
        "        curr = self.head\n",
        "        \n",
        "        while curr is not None:\n",
        "            result.append(curr.data)\n",
        "            curr = curr.next\n",
        "        \n",
        "        return result\n",
        "\n",
        "\n",
        "def solution(x):\n",
        "    return 0"
      ],
      "execution_count": 0,
      "outputs": []
    },
    {
      "metadata": {
        "id": "RNas6JvMnZPQ",
        "colab_type": "code",
        "colab": {
          "base_uri": "https://localhost:8080/",
          "height": 34
        },
        "outputId": "ef800202-eca1-4b5e-962d-fb621cb0d413"
      },
      "cell_type": "code",
      "source": [
        "a = Node(67)\n",
        "b = Node(34)\n",
        "c = Node(28)\n",
        "L = LinkedList()\n",
        "L"
      ],
      "execution_count": 2,
      "outputs": [
        {
          "output_type": "execute_result",
          "data": {
            "text/plain": [
              "LinkedList : empty"
            ]
          },
          "metadata": {
            "tags": []
          },
          "execution_count": 2
        }
      ]
    },
    {
      "metadata": {
        "id": "eNxoGfklnkno",
        "colab_type": "code",
        "colab": {
          "base_uri": "https://localhost:8080/",
          "height": 34
        },
        "outputId": "83edecf6-d3bc-4d3e-d8c2-c6efcdec5b6f"
      },
      "cell_type": "code",
      "source": [
        "L.insertAt(1,a)"
      ],
      "execution_count": 3,
      "outputs": [
        {
          "output_type": "execute_result",
          "data": {
            "text/plain": [
              "True"
            ]
          },
          "metadata": {
            "tags": []
          },
          "execution_count": 3
        }
      ]
    },
    {
      "metadata": {
        "id": "QB-d-5N7rCm8",
        "colab_type": "code",
        "colab": {
          "base_uri": "https://localhost:8080/",
          "height": 34
        },
        "outputId": "0a2a7835-c540-4e3d-8f56-ae0e5fb09b0c"
      },
      "cell_type": "code",
      "source": [
        "L.insertAt(2,b)"
      ],
      "execution_count": 4,
      "outputs": [
        {
          "output_type": "execute_result",
          "data": {
            "text/plain": [
              "True"
            ]
          },
          "metadata": {
            "tags": []
          },
          "execution_count": 4
        }
      ]
    },
    {
      "metadata": {
        "id": "0NsRmbkFrFMD",
        "colab_type": "code",
        "colab": {
          "base_uri": "https://localhost:8080/",
          "height": 34
        },
        "outputId": "1e160c36-a08d-49dc-c402-851bcbc4c7da"
      },
      "cell_type": "code",
      "source": [
        "L.insertAt(1,c)"
      ],
      "execution_count": 5,
      "outputs": [
        {
          "output_type": "execute_result",
          "data": {
            "text/plain": [
              "True"
            ]
          },
          "metadata": {
            "tags": []
          },
          "execution_count": 5
        }
      ]
    },
    {
      "metadata": {
        "id": "sGAT538erJ4v",
        "colab_type": "code",
        "colab": {
          "base_uri": "https://localhost:8080/",
          "height": 34
        },
        "outputId": "e7592379-215b-4934-c8f7-8aa3d8a3535c"
      },
      "cell_type": "code",
      "source": [
        "L.traverse()"
      ],
      "execution_count": 6,
      "outputs": [
        {
          "output_type": "execute_result",
          "data": {
            "text/plain": [
              "[28, 67, 34]"
            ]
          },
          "metadata": {
            "tags": []
          },
          "execution_count": 6
        }
      ]
    },
    {
      "metadata": {
        "id": "3qDntVGYrKtV",
        "colab_type": "code",
        "colab": {
          "base_uri": "https://localhost:8080/",
          "height": 34
        },
        "outputId": "cf621991-3de2-4a92-8e75-4c0d00313113"
      },
      "cell_type": "code",
      "source": [
        "L"
      ],
      "execution_count": 7,
      "outputs": [
        {
          "output_type": "execute_result",
          "data": {
            "text/plain": [
              "28->67->34"
            ]
          },
          "metadata": {
            "tags": []
          },
          "execution_count": 7
        }
      ]
    },
    {
      "metadata": {
        "id": "gc8zVflaW3NO",
        "colab_type": "code",
        "colab": {}
      },
      "cell_type": "code",
      "source": [
        ""
      ],
      "execution_count": 0,
      "outputs": []
    }
  ]
}